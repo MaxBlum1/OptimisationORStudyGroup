{
 "cells": [
  {
   "cell_type": "code",
   "execution_count": 13,
   "id": "31bc034f",
   "metadata": {},
   "outputs": [],
   "source": [
    "import pandas as pd\n",
    "import numpy as np\n",
    "from itertools import combinations\n",
    "import math\n",
    "from collections import defaultdict\n",
    "import os"
   ]
  },
  {
   "cell_type": "code",
   "execution_count": 14,
   "id": "13001c42",
   "metadata": {},
   "outputs": [
    {
     "name": "stdout",
     "output_type": "stream",
     "text": [
      "   Biology  Maths  Chemistry  Physics  Economics  German  Philosophy  \\\n",
      "0        1      1          0        0          1     0.0         1.0   \n",
      "1        1      1          0        0          1     1.0         1.0   \n",
      "2        1      1          0        0          1     0.0         0.0   \n",
      "3        1      1          0        0          1     1.0         1.0   \n",
      "4        1      1          0        0          1     1.0         0.0   \n",
      "\n",
      "   Geography  \n",
      "0        1.0  \n",
      "1        0.0  \n",
      "2        0.0  \n",
      "3        0.0  \n",
      "4        0.0  \n"
     ]
    }
   ],
   "source": [
    "# Manually read in data file\n",
    "\n",
    "file_path = os.path.join('data', 'test_data.csv')\n",
    "\n",
    "# Read the file into a pandas DataFrame\n",
    "\n",
    "df = pd.read_csv(file_path)\n",
    "\n",
    "# Drop subject column\n",
    "df = df.drop(columns=\"Subject\")\n",
    "df =  df.fillna(0)\n",
    "df = df.round(0)\n",
    "print(df.head())"
   ]
  },
  {
   "cell_type": "code",
   "execution_count": 15,
   "id": "91756a75",
   "metadata": {},
   "outputs": [
    {
     "name": "stdout",
     "output_type": "stream",
     "text": [
      "['Biology', 'Biology', 'Biology', 'Biology', 'Biology', 'Biology', 'Biology', 'Maths', 'Maths', 'Maths', 'Maths', 'Maths', 'Maths', 'Chemistry', 'Chemistry', 'Chemistry', 'Chemistry', 'Chemistry', 'Physics', 'Physics', 'Physics', 'Physics', 'Economics', 'Economics', 'Economics', 'German', 'German', 'Philosophy']\n"
     ]
    }
   ],
   "source": [
    "# Number of subjects\n",
    "number_of_subs = len(df.columns)\n",
    "# Create subject list 1\n",
    "\n",
    "subject_1_list = []\n",
    "for n in range(0, number_of_subs-1):\n",
    "    for i in range (1, number_of_subs-n):\n",
    "        subject_1_list.append(df.columns[n])\n",
    "print(subject_1_list)"
   ]
  },
  {
   "cell_type": "code",
   "execution_count": 16,
   "id": "8286fb59",
   "metadata": {},
   "outputs": [
    {
     "name": "stdout",
     "output_type": "stream",
     "text": [
      "['Maths', 'Chemistry', 'Physics', 'Economics', 'German', 'Philosophy', 'Geography', 'Chemistry', 'Physics', 'Economics', 'German', 'Philosophy', 'Geography', 'Physics', 'Economics', 'German', 'Philosophy', 'Geography', 'Economics', 'German', 'Philosophy', 'Geography', 'German', 'Philosophy', 'Geography', 'Philosophy', 'Geography', 'Geography']\n",
      "List are the same length\n"
     ]
    }
   ],
   "source": [
    "# Create subject list 2\n",
    "subject_2_list = []\n",
    "for n in range(0, number_of_subs-1):\n",
    "    for i in range (1, number_of_subs-n):\n",
    "        subject_2_list.append(df.columns[i+n])\n",
    "print(subject_2_list)\n",
    "\n",
    "if len(subject_1_list) == len(subject_2_list):\n",
    "    print(\"List are the same length\")\n",
    "else:\n",
    "    print(\"Lists are different lengths, PLEASE CHECK\")"
   ]
  },
  {
   "cell_type": "code",
   "execution_count": 17,
   "id": "db32eb6b",
   "metadata": {},
   "outputs": [
    {
     "name": "stdout",
     "output_type": "stream",
     "text": [
      "[5, 2, 4, 6, 4, 6, 6, 3, 2, 10, 5, 4, 3, 1, 3, 2, 2, 2, 3, 3, 2, 5, 5, 4, 4, 3, 1, 5]\n"
     ]
    }
   ],
   "source": [
    "# Build clashes data\n",
    "\n",
    "Clashes = []\n",
    "\n",
    "for i in range(0, len(subject_1_list)):\n",
    "    Count = 0\n",
    "    for n in range(0, len(df)):\n",
    "        if df[subject_1_list[i]].iloc[n] == 1 and df[subject_2_list[i]].iloc[n]:\n",
    "            Count += 1\n",
    "    Clashes.append(Count)\n",
    "    \n",
    "print(Clashes)\n",
    "        "
   ]
  },
  {
   "cell_type": "code",
   "execution_count": 18,
   "id": "a2e92829",
   "metadata": {},
   "outputs": [],
   "source": [
    "# We list all pairs of subjects twice (in both orders)\n",
    "df = pd.DataFrame({\n",
    "    \"Subject_1\": subject_1_list + subject_2_list,\n",
    "    \"Subject_2\": subject_2_list + subject_1_list,\n",
    "    \"Clashes\": Clashes + Clashes\n",
    "})"
   ]
  },
  {
   "cell_type": "code",
   "execution_count": 19,
   "id": "da1abaae",
   "metadata": {},
   "outputs": [],
   "source": [
    "def optimize_timetable(df, n_slots=2):\n",
    "    \"\"\"\n",
    "    Optimize a timetable by distributing subjects across n slots to minimize clashes.\n",
    "    \n",
    "    Parameters:\n",
    "    df (pandas.DataFrame): DataFrame with columns Subject_1, Subject_2, and Clashes\n",
    "    n_slots (int): Number of time slots to distribute subjects into\n",
    "    \n",
    "    Returns:\n",
    "    tuple: (min_score, slots) where min_score is the minimum clash count and \n",
    "           slots is a list of lists containing subjects assigned to each slot\n",
    "    \"\"\"\n",
    "    # Extract unique subjects from the dataframe\n",
    "    all_subjects = set()\n",
    "    for col in ['Subject_1', 'Subject_2']:\n",
    "        all_subjects.update(df[col].unique())\n",
    "    subjects = list(all_subjects)\n",
    "    num_subjects = len(subjects)\n",
    "    \n",
    "    # Verify we have enough subjects for the requested number of slots\n",
    "    if num_subjects < n_slots:\n",
    "        raise ValueError(f\"Not enough subjects ({num_subjects}) to distribute across {n_slots} slots\")\n",
    "    \n",
    "    # Create a helper function to calculate clashes for a set of subjects\n",
    "    def calculate_clashes(subject_set):\n",
    "        if len(subject_set) < 2:\n",
    "            return 0\n",
    "        \n",
    "        pairs = list(combinations(subject_set, 2))\n",
    "        clash_count = 0\n",
    "        \n",
    "        for pair in pairs:\n",
    "            pair_clashes = df.loc[\n",
    "                ((df['Subject_1'] == pair[0]) & (df['Subject_2'] == pair[1])) | \n",
    "                ((df['Subject_1'] == pair[1]) & (df['Subject_2'] == pair[0])),\n",
    "                'Clashes'\n",
    "            ]\n",
    "            if not pair_clashes.empty:\n",
    "                clash_count += pair_clashes.iloc[0]\n",
    "                \n",
    "        return clash_count\n",
    "    \n",
    "    # Initialize variables to track the best solution\n",
    "    min_score = float('inf')\n",
    "    best_slots = []\n",
    "    \n",
    "    # Recursive function to try different distributions of subjects\n",
    "    def distribute_subjects(remaining_subjects, current_slots, depth):\n",
    "        nonlocal min_score, best_slots\n",
    "        \n",
    "        # Base case: all slots filled except the last one\n",
    "        if depth == n_slots - 1:\n",
    "            # Assign all remaining subjects to the last slot\n",
    "            trial_slots = current_slots + [remaining_subjects]\n",
    "            \n",
    "            # Calculate total clashes\n",
    "            total_clashes = sum(calculate_clashes(slot) for slot in trial_slots)\n",
    "            \n",
    "            # Update if better\n",
    "            if total_clashes < min_score:\n",
    "                min_score = total_clashes\n",
    "                best_slots = trial_slots.copy()\n",
    "            return\n",
    "        \n",
    "        # Recursive case: try different assignments for current slot\n",
    "        # Calculate minimum subjects needed per slot (to ensure all slots get at least 1 subject)\n",
    "        min_subjects_per_slot = 1\n",
    "        \n",
    "        # Calculate maximum subjects allowed in current slot\n",
    "        # This ensures we leave enough subjects for remaining slots\n",
    "        max_subjects = len(remaining_subjects) - (n_slots - depth - 1) * min_subjects_per_slot\n",
    "        \n",
    "        # Try different numbers of subjects for the current slot\n",
    "        for i in range(min_subjects_per_slot, max_subjects + 1):\n",
    "            # Generate all combinations of i subjects from remaining_subjects\n",
    "            for combo in combinations(remaining_subjects, i):\n",
    "                combo_list = list(combo)\n",
    "                # Subjects not selected for current slot\n",
    "                next_remaining = [s for s in remaining_subjects if s not in combo_list]\n",
    "                # Recursive call to fill next slot\n",
    "                distribute_subjects(next_remaining, current_slots + [combo_list], depth + 1)\n",
    "    \n",
    "    # Start the recursive distribution process\n",
    "    distribute_subjects(subjects, [], 0)\n",
    "    \n",
    "    return min_score, best_slots"
   ]
  },
  {
   "cell_type": "code",
   "execution_count": 20,
   "id": "370bc947",
   "metadata": {},
   "outputs": [
    {
     "name": "stdout",
     "output_type": "stream",
     "text": [
      "\n",
      "With 4 slots: 9 clashes\n",
      "  Slot 1: ['Maths', 'Physics']\n",
      "  Slot 2: ['Economics', 'Philosophy']\n",
      "  Slot 3: ['German', 'Geography']\n",
      "  Slot 4: ['Biology', 'Chemistry']\n"
     ]
    }
   ],
   "source": [
    "if __name__ == \"__main__\":\n",
    "        \n",
    "    # Run optimization for 2 slots (original problem)\n",
    "#     min_clashes_2, slot_assignment_2 = optimize_timetable(df, n_slots=2)\n",
    "#     print(f\"With 2 slots: {min_clashes_2} clashes\")\n",
    "#     for i, slot in enumerate(slot_assignment_2):\n",
    "#         print(f\"  Slot {i+1}: {slot}\")\n",
    "    \n",
    "    # Try with 3 slots\n",
    "    min_clashes_3, slot_assignment = optimize_timetable(df, n_slots=4)\n",
    "    n= len(slot_assignment)\n",
    "    print(f\"\\nWith {n} slots: {min_clashes_3} clashes\")\n",
    "    for i, slot in enumerate(slot_assignment):\n",
    "        print(f\"  Slot {i+1}: {slot}\")"
   ]
  }
 ],
 "metadata": {
  "kernelspec": {
   "display_name": "Python 3 (ipykernel)",
   "language": "python",
   "name": "python3"
  },
  "language_info": {
   "codemirror_mode": {
    "name": "ipython",
    "version": 3
   },
   "file_extension": ".py",
   "mimetype": "text/x-python",
   "name": "python",
   "nbconvert_exporter": "python",
   "pygments_lexer": "ipython3",
   "version": "3.9.13"
  }
 },
 "nbformat": 4,
 "nbformat_minor": 5
}

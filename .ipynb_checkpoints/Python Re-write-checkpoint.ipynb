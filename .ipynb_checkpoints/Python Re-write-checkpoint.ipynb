{
 "cells": [
  {
   "cell_type": "code",
   "execution_count": 1,
   "id": "72006f5e",
   "metadata": {},
   "outputs": [
    {
     "name": "stdout",
     "output_type": "stream",
     "text": [
      "The minimum number of clashes is 4 achieved by having the two slots be ['M', 'P'] and ['B', 'C']\n"
     ]
    }
   ],
   "source": [
    "import pandas as pd\n",
    "import numpy as np\n",
    "import os\n",
    "from itertools import combinations\n",
    "import math\n",
    "\n",
    "# Setting up our dataframe\n",
    "subject_1 = [\"B\", \"B\", \"B\", \"M\", \"M\", \"C\"]\n",
    "subject_2 = [\"M\", \"C\", \"P\", \"C\", \"P\", \"P\"]\n",
    "clashes = [5, 2, 4, 3, 2, 1]\n",
    "\n",
    "# We list all pairs of subjects twice (in both orders)\n",
    "df = pd.DataFrame({\n",
    "    \"Subject_1\": subject_1 + subject_2,\n",
    "    \"Subject_2\": subject_2 + subject_1,\n",
    "    \"Clashes\": clashes + clashes\n",
    "})\n",
    "\n",
    "# These are the variables where we will store the minimum number of clashes achieved\n",
    "# And the subject combinations that achieve them\n",
    "min_score = float('inf')\n",
    "slot_1 = []\n",
    "slot_2 = []\n",
    "\n",
    "# We list the distinct subjects\n",
    "subjects = list(set(subject_1 + subject_2))\n",
    "num_subjects = len(subjects)\n",
    "\n",
    "# We loop over all possible numbers of subjects to have in the first slot\n",
    "for i in range(math.ceil(num_subjects/2), num_subjects + 1):\n",
    "    # Generate all combinations of subjects of size i\n",
    "    subject_subsets = list(combinations(subjects, i))\n",
    "    \n",
    "    # We loop over every set of subjects of a particular size\n",
    "    for sub_1 in subject_subsets:\n",
    "        sub_1 = list(sub_1)\n",
    "        sub_1_pairs = list(combinations(sub_1, 2))\n",
    "        sub_1_score = 0\n",
    "        \n",
    "        # We loop over every pair of subjects within the subset to find the total number of clashes\n",
    "        for pair in sub_1_pairs:\n",
    "            pair_clashes = df.loc[(df['Subject_1'] == pair[0]) & (df['Subject_2'] == pair[1]), 'Clashes']\n",
    "            if not pair_clashes.empty:\n",
    "                sub_1_score += pair_clashes.iloc[0]\n",
    "        \n",
    "        # We work out the number of clashes in the second slot\n",
    "        sub_2 = [s for s in subjects if s not in sub_1]\n",
    "        sub_2_score = 0\n",
    "        \n",
    "        if len(sub_2) >= 2:\n",
    "            sub_2_pairs = list(combinations(sub_2, 2))\n",
    "            for pair in sub_2_pairs:\n",
    "                pair_clashes = df.loc[(df['Subject_1'] == pair[0]) & (df['Subject_2'] == pair[1]), 'Clashes']\n",
    "                if not pair_clashes.empty:\n",
    "                    sub_2_score += pair_clashes.iloc[0]\n",
    "        \n",
    "        score = sub_1_score + sub_2_score\n",
    "        \n",
    "        # If the number of clashes with this timetabling arrangement is less than the previous minimum\n",
    "        # We update the minimum score and the subjects that go in the two slots\n",
    "        if score < min_score:\n",
    "            min_score = score\n",
    "            slot_1 = sub_1\n",
    "            slot_2 = sub_2\n",
    "\n",
    "print(f\"The minimum number of clashes is {min_score} achieved by having the two slots be {slot_1} and {slot_2}\")"
   ]
  },
  {
   "cell_type": "code",
   "execution_count": 4,
   "id": "295174bb",
   "metadata": {},
   "outputs": [
    {
     "name": "stdout",
     "output_type": "stream",
     "text": [
      "   Biology  Maths  Chemistry  Physics\n",
      "0        1      1          0        0\n",
      "1        1      1          0        0\n",
      "2        1      1          0        0\n",
      "3        1      1          0        0\n",
      "4        1      1          0        0\n"
     ]
    }
   ],
   "source": [
    "# Manually read in data file\n",
    "\n",
    "file_path = os.path.join('data', 'test_data.csv')\n",
    "\n",
    "# Read the file into a pandas DataFrame\n",
    "\n",
    "df = pd.read_csv(file_path)\n",
    "\n",
    "# Drop subject column\n",
    "df = df.drop(columns=\"Subject\")   \n",
    "print(df.head())"
   ]
  },
  {
   "cell_type": "code",
   "execution_count": 9,
   "id": "61227432",
   "metadata": {},
   "outputs": [
    {
     "name": "stdout",
     "output_type": "stream",
     "text": [
      "['Biology', 'Biology', 'Biology', 'Maths', 'Maths', 'Chemistry']\n"
     ]
    }
   ],
   "source": [
    "# Number of subjects\n",
    "number_of_subs = len(df.columns)\n",
    "# Create subject list 1\n",
    "\n",
    "subject_1_list = []\n",
    "for n in range(0, number_of_subs-1):\n",
    "    for i in range (1, number_of_subs-n):\n",
    "        subject_1_list.append(df.columns[n])\n",
    "print(subject_1_list)"
   ]
  },
  {
   "cell_type": "code",
   "execution_count": 10,
   "id": "c74d485f",
   "metadata": {},
   "outputs": [
    {
     "name": "stdout",
     "output_type": "stream",
     "text": [
      "['Maths', 'Chemistry', 'Physics', 'Chemistry', 'Physics', 'Physics']\n"
     ]
    }
   ],
   "source": [
    "# Create subject list 2\n",
    "subject_2_list = []\n",
    "for n in range(0, number_of_subs-1):\n",
    "    for i in range (1, number_of_subs-n):\n",
    "        subject_2_list.append(df.columns[i+n])\n",
    "print(subject_2_list)\n",
    "\n",
    "if len(subject_1_list) == len(subject_2_list):\n",
    "    "
   ]
  },
  {
   "cell_type": "code",
   "execution_count": null,
   "id": "141a295a",
   "metadata": {},
   "outputs": [],
   "source": [
    "# Build clashes data\n",
    "\n",
    "Clashes = []\n",
    "\n",
    "for n in range(0, len(df)):\n",
    "    for i in range(0, len)"
   ]
  }
 ],
 "metadata": {
  "kernelspec": {
   "display_name": "Python 3 (ipykernel)",
   "language": "python",
   "name": "python3"
  },
  "language_info": {
   "codemirror_mode": {
    "name": "ipython",
    "version": 3
   },
   "file_extension": ".py",
   "mimetype": "text/x-python",
   "name": "python",
   "nbconvert_exporter": "python",
   "pygments_lexer": "ipython3",
   "version": "3.9.13"
  }
 },
 "nbformat": 4,
 "nbformat_minor": 5
}

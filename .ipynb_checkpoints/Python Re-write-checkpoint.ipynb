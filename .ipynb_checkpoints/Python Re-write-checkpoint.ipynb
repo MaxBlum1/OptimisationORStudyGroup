{
 "cells": [
  {
   "cell_type": "code",
   "execution_count": 30,
   "id": "0460ec52",
   "metadata": {},
   "outputs": [],
   "source": [
    "import pandas as pd\n",
    "import numpy as np\n",
    "import os\n",
    "from itertools import combinations\n",
    "import math\n",
    "\n",
    "#VARIABLES\n",
    "\n",
    "NUMBER_OF_SLOTS = 3\n",
    "\n"
   ]
  },
  {
   "cell_type": "code",
   "execution_count": 31,
   "id": "5667c68c",
   "metadata": {},
   "outputs": [
    {
     "name": "stdout",
     "output_type": "stream",
     "text": [
      "   Biology  Maths  Chemistry  Physics  Economics\n",
      "0        1      1          0        0          0\n",
      "1        1      1          0        0          0\n",
      "2        1      1          0        0          0\n",
      "3        1      1          0        0          0\n",
      "4        1      1          0        0          0\n"
     ]
    }
   ],
   "source": [
    "# Manually read in data file\n",
    "\n",
    "file_path = os.path.join('data', 'test_data.csv')\n",
    "\n",
    "# Read the file into a pandas DataFrame\n",
    "\n",
    "df = pd.read_csv(file_path)\n",
    "\n",
    "# Drop subject column\n",
    "df = df.drop(columns=\"Subject\")   \n",
    "print(df.head())"
   ]
  },
  {
   "cell_type": "code",
   "execution_count": 32,
   "id": "1bd65c02",
   "metadata": {},
   "outputs": [
    {
     "name": "stdout",
     "output_type": "stream",
     "text": [
      "['Biology', 'Biology', 'Biology', 'Biology', 'Maths', 'Maths', 'Maths', 'Chemistry', 'Chemistry', 'Physics']\n"
     ]
    }
   ],
   "source": [
    "# Number of subjects\n",
    "number_of_subs = len(df.columns)\n",
    "# Create subject list 1\n",
    "\n",
    "subject_1_list = []\n",
    "for n in range(0, number_of_subs-1):\n",
    "    for i in range (1, number_of_subs-n):\n",
    "        subject_1_list.append(df.columns[n])\n",
    "print(subject_1_list)"
   ]
  },
  {
   "cell_type": "code",
   "execution_count": 33,
   "id": "883396be",
   "metadata": {},
   "outputs": [
    {
     "name": "stdout",
     "output_type": "stream",
     "text": [
      "['Maths', 'Chemistry', 'Physics', 'Economics', 'Chemistry', 'Physics', 'Economics', 'Physics', 'Economics', 'Economics']\n",
      "List are the smame length\n"
     ]
    }
   ],
   "source": [
    "# Create subject list 2\n",
    "subject_2_list = []\n",
    "for n in range(0, number_of_subs-1):\n",
    "    for i in range (1, number_of_subs-n):\n",
    "        subject_2_list.append(df.columns[i+n])\n",
    "print(subject_2_list)\n",
    "\n",
    "if len(subject_1_list) == len(subject_2_list):\n",
    "    print(\"List are the same length\")\n",
    "else:\n",
    "    print(\"Lists are different lengths, PLEASE CHECK\")"
   ]
  },
  {
   "cell_type": "code",
   "execution_count": 34,
   "id": "ccde0bef",
   "metadata": {},
   "outputs": [
    {
     "name": "stdout",
     "output_type": "stream",
     "text": [
      "[5, 2, 4, 1, 3, 2, 5, 1, 3, 3]\n"
     ]
    }
   ],
   "source": [
    "# Build clashes data\n",
    "\n",
    "Clashes = []\n",
    "\n",
    "for i in range(0, len(subject_1_list)):\n",
    "    Count = 0\n",
    "    for n in range(0, len(df)):\n",
    "        if df[subject_1_list[i]].iloc[n] == 1 and df[subject_2_list[i]].iloc[n]:\n",
    "            Count += 1\n",
    "    Clashes.append(Count)\n",
    "    \n",
    "print(Clashes)\n",
    "        "
   ]
  },
  {
   "cell_type": "code",
   "execution_count": 35,
   "id": "2949bba9",
   "metadata": {},
   "outputs": [],
   "source": [
    "# We list all pairs of subjects twice (in both orders)\n",
    "df = pd.DataFrame({\n",
    "    \"Subject_1\": subject_1_list + subject_2_list,\n",
    "    \"Subject_2\": subject_2_list + subject_1_list,\n",
    "    \"Clashes\": Clashes + Clashes\n",
    "})"
   ]
  },
  {
   "cell_type": "code",
   "execution_count": 36,
   "id": "d4d8763d",
   "metadata": {},
   "outputs": [],
   "source": [
    "#TO DO\n",
    "\n",
    "# 1. Make number of slots a variable\n",
    "# 2. Look at mapping the optimal slots onto a timetable\n",
    "# 3. Test google form data template and edit data ingress to check - \n",
    "#    if we could build and do this we can see if people in the room https://docs.google.com/forms/d/1eou9g1pQeVUu2bG3oOVr-EcGuSQQ953Vcb3-fpBC9N4/edit\n",
    "# 4. Could you add extra constraints e.g. if all people studying x also study y (even if x is small) don't group them together because it \n",
    "# essentially creates another exam slot from the double booking"
   ]
  },
  {
   "cell_type": "code",
   "execution_count": 37,
   "id": "e5958f4f",
   "metadata": {},
   "outputs": [
    {
     "name": "stdout",
     "output_type": "stream",
     "text": [
      "{'slot_1': [], 'slot_2': [], 'slot_3': []}\n"
     ]
    }
   ],
   "source": [
    "#Edit variable at top to change the number of slots\n",
    "no_of_slots = NUMBER_OF_SLOTS\n",
    "\n",
    "slot_dict = {}\n",
    "for i in range(1, no_of_slots+1):  # Create 5 lists\n",
    "    list_name = f\"slot_{i}\"\n",
    "    slot_dict[list_name] = []\n",
    "    \n",
    "print(slot_dict)"
   ]
  },
  {
   "cell_type": "code",
   "execution_count": 38,
   "id": "89be0854",
   "metadata": {},
   "outputs": [
    {
     "name": "stdout",
     "output_type": "stream",
     "text": [
      "The minimum number of clashes is 7 achieved by having the two slots be ['Chemistry', 'Maths', 'Physics'] and ['Biology', 'Economics']\n"
     ]
    }
   ],
   "source": [
    "# These are the variables where we will store the minimum number of clashes achieved\n",
    "# And the subject combinations that achieve them\n",
    "min_score = float('inf')\n",
    "\n",
    "#Original code\n",
    "no_of_slots = 2\n",
    "slot_1 = []\n",
    "slot_2 = []\n",
    "\n",
    "# We list the distinct subjects\n",
    "subjects = list(set(subject_1_list + subject_2_list))\n",
    "num_subjects = len(subjects)\n",
    "\n",
    "# We loop over all possible numbers of subjects to have in the first slot\n",
    "for i in range(math.ceil(num_subjects/no_of_slots), num_subjects + 1):\n",
    "    # Generate all combinations of subjects of size i\n",
    "    subject_subsets = list(combinations(subjects, i))\n",
    "    \n",
    "    # We loop over every set of subjects of a particular size\n",
    "    for sub_1 in subject_subsets:\n",
    "        sub_1 = list(sub_1)\n",
    "        sub_1_pairs = list(combinations(sub_1, 2))\n",
    "        sub_1_score = 0\n",
    "        \n",
    "        # We loop over every pair of subjects within the subset to find the total number of clashes\n",
    "        for pair in sub_1_pairs:\n",
    "            pair_clashes = df.loc[(df['Subject_1'] == pair[0]) & (df['Subject_2'] == pair[1]), 'Clashes']\n",
    "            if not pair_clashes.empty:\n",
    "                sub_1_score += pair_clashes.iloc[0]\n",
    "        \n",
    "        # We work out the number of clashes in the second slot\n",
    "        sub_2 = [s for s in subjects if s not in sub_1]\n",
    "        sub_2_score = 0\n",
    "        \n",
    "        if len(sub_2) >= 2:\n",
    "            sub_2_pairs = list(combinations(sub_2, 2))\n",
    "            for pair in sub_2_pairs:\n",
    "                pair_clashes = df.loc[(df['Subject_1'] == pair[0]) & (df['Subject_2'] == pair[1]), 'Clashes']\n",
    "                if not pair_clashes.empty:\n",
    "                    sub_2_score += pair_clashes.iloc[0]\n",
    "        \n",
    "        score = sub_1_score + sub_2_score\n",
    "        \n",
    "        # If the number of clashes with this timetabling arrangement is less than the previous minimum\n",
    "        # We update the minimum score and the subjects that go in the two slots\n",
    "        if score < min_score:\n",
    "            min_score = score\n",
    "            slot_1 = sub_1\n",
    "            slot_2 = sub_2\n",
    "\n",
    "print(f\"The minimum number of clashes is {min_score} achieved by having the two slots be {slot_1} and {slot_2}\")"
   ]
  }
 ],
 "metadata": {
  "kernelspec": {
   "display_name": "Python 3 (ipykernel)",
   "language": "python",
   "name": "python3"
  },
  "language_info": {
   "codemirror_mode": {
    "name": "ipython",
    "version": 3
   },
   "file_extension": ".py",
   "mimetype": "text/x-python",
   "name": "python",
   "nbconvert_exporter": "python",
   "pygments_lexer": "ipython3",
   "version": "3.9.13"
  }
 },
 "nbformat": 4,
 "nbformat_minor": 5
}

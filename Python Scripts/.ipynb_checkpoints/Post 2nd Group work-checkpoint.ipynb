{
 "cells": [
  {
   "cell_type": "code",
   "execution_count": 1,
   "id": "fa026970",
   "metadata": {},
   "outputs": [],
   "source": [
    "#TO DO\n",
    "\n",
    "# 1. DONE Make number of slots a variable\n",
    "\n",
    "# 2. Look at mapping the optimal slots onto a timetable\n",
    "\n",
    "# 3. Test google form data template and edit data ingress to check - \n",
    "#    if we could build and do this we can see if people in the room \n",
    "# https://docs.google.com/forms/d/1eou9g1pQeVUu2bG3oOVr-EcGuSQQ953Vcb3-fpBC9N4/edit\n",
    "\n",
    "# 4. Could you add extra constraints e.g. if all people studying x also study y (even if x is small) \n",
    "# don't group them together because it essentially creates another exam slot from the double booking. *started with dict of number of people studying each subject\n",
    "\n",
    "# 5. DONE A function that gives the lowest number of slots required to achieve a certain number of clashes \n",
    "# or the lowest number of slots required to achieve a certain percentage of clashes in terms of the total number of exams being taken.\n",
    "\n",
    "# 6. Get the function to flag any triple clashes (needs to revert back to check slots against original dataframe)"
   ]
  },
  {
   "cell_type": "code",
   "execution_count": 2,
   "id": "2606afb1",
   "metadata": {},
   "outputs": [],
   "source": [
    "import pandas as pd\n",
    "import numpy as np\n",
    "from itertools import combinations\n",
    "import math\n",
    "from collections import defaultdict\n",
    "import os"
   ]
  },
  {
   "cell_type": "code",
   "execution_count": 3,
   "id": "98ef033c",
   "metadata": {},
   "outputs": [],
   "source": [
    "# Variables:\n",
    "NUMBER_OF_SLOTS = 3\n",
    "ACCEPTABLE_CLASHES = 2\n",
    "ACCEPTABLE_CLASH_PERCENTAGE = 10"
   ]
  },
  {
   "cell_type": "code",
   "execution_count": 4,
   "id": "1c30b6e3",
   "metadata": {},
   "outputs": [
    {
     "name": "stdout",
     "output_type": "stream",
     "text": [
      "   Maths  Physics  Chemistry  Philosophy  Further Maths  German  Biology  \\\n",
      "0      1        1          0           1              1       0        0   \n",
      "1      1        1          0           0              1       1        0   \n",
      "2      1        1          1           0              1       0        0   \n",
      "3      1        0          1           0              1       0        0   \n",
      "4      1        0          1           0              0       0        1   \n",
      "\n",
      "   Computer Science  Economics  OTHER  \n",
      "0                 0          0      0  \n",
      "1                 0          0      0  \n",
      "2                 0          0      0  \n",
      "3                 0          0      0  \n",
      "4                 0          0      0  \n",
      "The most number of subjects studied by one student is 5, therefore to avoid triple clashes you will required at least 3 slots\n",
      "The total number of subjects studied for all students is 76\n"
     ]
    }
   ],
   "source": [
    "# Manually read in data file\n",
    "\n",
    "file_path = os.path.join('data', 'test_data2.csv')\n",
    "\n",
    "# Read the file into a pandas DataFrame\n",
    "\n",
    "df_raw = pd.read_csv(file_path)\n",
    "\n",
    "# Drop subject column\n",
    "#df_raw = df_raw.drop(columns=\"Subject\")\n",
    "df_raw = df_raw.drop(df_raw.columns[0], axis=1)\n",
    "df_raw =  df_raw.fillna(0)\n",
    "\n",
    "# Will probably need to replace \"Yes\" with 1 and \"No\" with 0.\n",
    "\n",
    "# Most subjects for one student\n",
    "subjects_studied = []\n",
    "for i in range(0,len(df_raw)):\n",
    "    count = np.count_nonzero(df_raw.iloc[i]==1)\n",
    "    subjects_studied.append(count)\n",
    "    \n",
    "Most_subjects = max(subjects_studied)\n",
    "Total_exams = sum(subjects_studied)\n",
    "Minimum_slots = round(Most_subjects/1.999) #bad solution\n",
    "\n",
    "print(df_raw.head())\n",
    "print(f\"The most number of subjects studied by one student is {Most_subjects}, therefore to avoid triple clashes you will required at least {Minimum_slots} slots\")\n",
    "print(f\"The total number of subjects studied for all students is {Total_exams}\")"
   ]
  },
  {
   "cell_type": "code",
   "execution_count": 5,
   "id": "857f1424",
   "metadata": {},
   "outputs": [
    {
     "name": "stdout",
     "output_type": "stream",
     "text": [
      "{'Maths': 4, 'Physics': 4, 'Chemistry': 4, 'Philosophy': 3, 'Further Maths': 3, 'German': 4, 'Biology': 5, 'Computer Science': 3, 'Economics': 3, 'OTHER': 5}\n"
     ]
    }
   ],
   "source": [
    "# Create dict of total students studying each subject - \n",
    "# Can be used to not include combinations where all students from a subject have a clash\n",
    "subs = df_raw.columns.tolist()\n",
    "students_numbers = []\n",
    "for i in range(0,len(subs)):\n",
    "    count = np.count_nonzero(df_raw.loc[i]==1)  \n",
    "    students_numbers.append(count)\n",
    "per_subject_dict = dict(zip(subs, students_numbers))\n",
    "print (per_subject_dict)"
   ]
  },
  {
   "cell_type": "code",
   "execution_count": 6,
   "id": "87f262c8",
   "metadata": {},
   "outputs": [
    {
     "name": "stdout",
     "output_type": "stream",
     "text": [
      "['Maths', 'Maths', 'Maths', 'Maths', 'Maths', 'Maths', 'Maths', 'Maths', 'Maths', 'Physics', 'Physics', 'Physics', 'Physics', 'Physics', 'Physics', 'Physics', 'Physics', 'Chemistry', 'Chemistry', 'Chemistry', 'Chemistry', 'Chemistry', 'Chemistry', 'Chemistry', 'Philosophy', 'Philosophy', 'Philosophy', 'Philosophy', 'Philosophy', 'Philosophy', 'Further Maths', 'Further Maths', 'Further Maths', 'Further Maths', 'Further Maths', 'German', 'German', 'German', 'German', 'Biology', 'Biology', 'Biology', 'Computer Science', 'Computer Science', 'Economics']\n"
     ]
    }
   ],
   "source": [
    "# Number of subjects\n",
    "number_of_subs = len(df_raw.columns)\n",
    "# Create subject list 1\n",
    "\n",
    "subject_1_list = []\n",
    "for n in range(0, number_of_subs-1):\n",
    "    for i in range (1, number_of_subs-n):\n",
    "        subject_1_list.append(df_raw.columns[n])\n",
    "print(subject_1_list)"
   ]
  },
  {
   "cell_type": "code",
   "execution_count": 7,
   "id": "91693d52",
   "metadata": {},
   "outputs": [
    {
     "name": "stdout",
     "output_type": "stream",
     "text": [
      "['Physics', 'Chemistry', 'Philosophy', 'Further Maths', 'German', 'Biology', 'Computer Science', 'Economics', 'OTHER', 'Chemistry', 'Philosophy', 'Further Maths', 'German', 'Biology', 'Computer Science', 'Economics', 'OTHER', 'Philosophy', 'Further Maths', 'German', 'Biology', 'Computer Science', 'Economics', 'OTHER', 'Further Maths', 'German', 'Biology', 'Computer Science', 'Economics', 'OTHER', 'German', 'Biology', 'Computer Science', 'Economics', 'OTHER', 'Biology', 'Computer Science', 'Economics', 'OTHER', 'Computer Science', 'Economics', 'OTHER', 'Economics', 'OTHER', 'OTHER']\n",
      "List are the same length\n"
     ]
    }
   ],
   "source": [
    "# Create subject list 2\n",
    "subject_2_list = []\n",
    "for n in range(0, number_of_subs-1):\n",
    "    for i in range (1, number_of_subs-n):\n",
    "        subject_2_list.append(df_raw.columns[i+n])\n",
    "print(subject_2_list)\n",
    "\n",
    "if len(subject_1_list) == len(subject_2_list):\n",
    "    print(\"List are the same length\")\n",
    "else:\n",
    "    print(\"Lists are different lengths, PLEASE CHECK\")"
   ]
  },
  {
   "cell_type": "code",
   "execution_count": 8,
   "id": "8d2bb83b",
   "metadata": {},
   "outputs": [
    {
     "name": "stdout",
     "output_type": "stream",
     "text": [
      "[8, 7, 2, 11, 1, 4, 6, 4, 5, 3, 2, 5, 1, 1, 1, 0, 3, 0, 3, 0, 2, 1, 1, 1, 2, 0, 0, 1, 0, 2, 1, 0, 3, 2, 3, 0, 0, 0, 0, 3, 1, 1, 0, 2, 1]\n"
     ]
    }
   ],
   "source": [
    "# Build clashes data\n",
    "\n",
    "Clashes = []\n",
    "\n",
    "for i in range(0, len(subject_1_list)):\n",
    "    Count = 0\n",
    "    for n in range(0, len(df_raw)):\n",
    "        if df_raw[subject_1_list[i]].iloc[n] == 1 and df_raw[subject_2_list[i]].iloc[n]:\n",
    "            Count += 1\n",
    "    Clashes.append(Count)\n",
    "    \n",
    "print(Clashes)\n",
    "        "
   ]
  },
  {
   "cell_type": "code",
   "execution_count": 9,
   "id": "363b9191",
   "metadata": {},
   "outputs": [
    {
     "name": "stdout",
     "output_type": "stream",
     "text": [
      "<bound method NDFrame.head of     Subject_1         Subject_2  Clashes\n",
      "0       Maths           Physics        8\n",
      "1       Maths         Chemistry        7\n",
      "2       Maths        Philosophy        2\n",
      "3       Maths     Further Maths       11\n",
      "4       Maths            German        1\n",
      "..        ...               ...      ...\n",
      "85  Economics           Biology        1\n",
      "86      OTHER           Biology        1\n",
      "87  Economics  Computer Science        0\n",
      "88      OTHER  Computer Science        2\n",
      "89      OTHER         Economics        1\n",
      "\n",
      "[90 rows x 3 columns]>\n"
     ]
    }
   ],
   "source": [
    "# We list all pairs of subjects twice (in both orders)\n",
    "df = pd.DataFrame({\n",
    "    \"Subject_1\": subject_1_list + subject_2_list,\n",
    "    \"Subject_2\": subject_2_list + subject_1_list,\n",
    "    \"Clashes\": Clashes + Clashes\n",
    "})\n",
    "print(df.head)"
   ]
  },
  {
   "cell_type": "code",
   "execution_count": 10,
   "id": "046d2a88",
   "metadata": {},
   "outputs": [],
   "source": [
    "def optimize_timetable(df, n_slots):\n",
    "    \"\"\"\n",
    "    Optimize a timetable by distributing subjects across n slots to minimize clashes.\n",
    "    \n",
    "    Parameters:\n",
    "    df (pandas.DataFrame): DataFrame with columns Subject_1, Subject_2, and Clashes\n",
    "    n_slots (int): Number of time slots to distribute subjects into\n",
    "    \n",
    "    Returns:\n",
    "    tuple: (min_score, slots) where min_score is the minimum clash count and \n",
    "           slots is a list of lists containing subjects assigned to each slot\n",
    "    \"\"\"\n",
    "    # Extract unique subjects from the dataframe\n",
    "    all_subjects = set()\n",
    "    for col in ['Subject_1', 'Subject_2']:\n",
    "        all_subjects.update(df[col].unique())\n",
    "    subjects = list(all_subjects)\n",
    "    num_subjects = len(subjects)\n",
    "    # Verify we have enough subjects for the requested number of slots\n",
    "    if num_subjects < n_slots:\n",
    "        raise ValueError(f\"Not enough subjects ({num_subjects}) to distribute across {n_slots} slots\")\n",
    "    \n",
    "    # Create a helper function to calculate clashes for a set of subjects\n",
    "    def calculate_clashes(subject_set):\n",
    "        if len(subject_set) < 2:\n",
    "            return 0\n",
    "        \n",
    "        pairs = list(combinations(subject_set, 2))\n",
    "        clash_count = 0\n",
    "        \n",
    "        for pair in pairs:\n",
    "            pair_clashes = df.loc[\n",
    "                ((df['Subject_1'] == pair[0]) & (df['Subject_2'] == pair[1])) | \n",
    "                ((df['Subject_1'] == pair[1]) & (df['Subject_2'] == pair[0])),\n",
    "                'Clashes'\n",
    "            ]\n",
    "            if not pair_clashes.empty:\n",
    "                clash_count += pair_clashes.iloc[0]\n",
    "                \n",
    "        return clash_count\n",
    "    \n",
    "    # Initialize variables to track the best solution\n",
    "    min_score = float('inf')\n",
    "    best_slots = []\n",
    "    \n",
    "    # Recursive function to try different distributions of subjects\n",
    "    def distribute_subjects(remaining_subjects, current_slots, depth):\n",
    "        nonlocal min_score, best_slots\n",
    "        \n",
    "        # Base case: all slots filled except the last one\n",
    "        if depth == n_slots - 1:\n",
    "            # Assign all remaining subjects to the last slot\n",
    "            trial_slots = current_slots + [remaining_subjects]\n",
    "            \n",
    "            # Calculate total clashes\n",
    "            total_clashes = sum(calculate_clashes(slot) for slot in trial_slots)\n",
    "            \n",
    "            # Update if better\n",
    "            if total_clashes < min_score:\n",
    "                min_score = total_clashes\n",
    "                best_slots = trial_slots.copy()\n",
    "            return\n",
    "        \n",
    "        # Recursive case: try different assignments for current slot\n",
    "        # Calculate minimum subjects needed per slot (to ensure all slots get at least 1 subject)\n",
    "        min_subjects_per_slot = 1\n",
    "        \n",
    "        # Calculate maximum subjects allowed in current slot\n",
    "        # This ensures we leave enough subjects for remaining slots\n",
    "        max_subjects = len(remaining_subjects) - (n_slots - depth - 1) * min_subjects_per_slot\n",
    "        \n",
    "        # Try different numbers of subjects for the current slot\n",
    "        for i in range(min_subjects_per_slot, max_subjects + 1):\n",
    "            # Generate all combinations of i subjects from remaining_subjects\n",
    "            for combo in combinations(remaining_subjects, i):\n",
    "                combo_list = list(combo)\n",
    "                # Subjects not selected for current slot\n",
    "                next_remaining = [s for s in remaining_subjects if s not in combo_list]\n",
    "                # Recursive call to fill next slot\n",
    "                distribute_subjects(next_remaining, current_slots + [combo_list], depth + 1)\n",
    "    \n",
    "    # Start the recursive distribution process\n",
    "    distribute_subjects(subjects, [], 0)\n",
    "    \n",
    "    return min_score, best_slots"
   ]
  },
  {
   "cell_type": "code",
   "execution_count": 11,
   "id": "9facca94",
   "metadata": {},
   "outputs": [
    {
     "name": "stdout",
     "output_type": "stream",
     "text": [
      "\n",
      "With 3 slots: 13 clashes\n",
      "  Slot 1: ['Philosophy', 'Maths']\n",
      "  Slot 2: ['OTHER', 'Further Maths', 'Biology']\n",
      "  Slot 3: ['Chemistry', 'German', 'Economics', 'Computer Science', 'Physics']\n"
     ]
    }
   ],
   "source": [
    "if __name__ == \"__main__\":\n",
    "        \n",
    "  \n",
    "    # Specified Number of slots\n",
    "    min_clashes, slot_assignment = optimize_timetable(df, n_slots=NUMBER_OF_SLOTS)\n",
    "    n= len(slot_assignment)\n",
    "    print(f\"\\nWith {n} slots: {min_clashes} clashes\")\n",
    "    for i, slot in enumerate(slot_assignment):\n",
    "        print(f\"  Slot {i+1}: {slot}\")"
   ]
  },
  {
   "cell_type": "code",
   "execution_count": null,
   "id": "0ee6a617",
   "metadata": {},
   "outputs": [],
   "source": [
    "# Lowest number of slots to get under number of acceptable clashes\n",
    "    \n",
    "    \n",
    "slots = 1\n",
    "min_clashes = float('inf')  # Initialize to a large value\n",
    "\n",
    "while min_clashes > ACCEPTABLE_CLASHES:\n",
    "    \n",
    "    if __name__ == \"__main__\":\n",
    "        \n",
    "  \n",
    "        min_clashes, slot_assignment = optimize_timetable(df, n_slots=slots)\n",
    "        n= len(slot_assignment)\n",
    "        slots+=1\n",
    "        print(slots)\n",
    "    \n",
    "print(f\"\\nWith {n} slots: {min_clashes} clashes\")\n",
    "for i, slot in enumerate(slot_assignment):\n",
    "    print(f\"  Slot {i+1}: {slot}\")\n"
   ]
  },
  {
   "cell_type": "code",
   "execution_count": null,
   "id": "3cd5a397",
   "metadata": {},
   "outputs": [],
   "source": [
    "# Lowest number of slots to get under acceptable percentage of clashes\n",
    "\n",
    "slots = 1\n",
    "min_clashes = float('inf')  # Initialize to a large value\n",
    "slot_assignment = None\n",
    "\n",
    "while ((min_clashes/Total_exams)*100) > ACCEPTABLE_CLASH_PERCENTAGE:\n",
    "    \n",
    "    if __name__ == \"__main__\":\n",
    "        \n",
    "  \n",
    "        min_clashes, slot_assignment = optimize_timetable(df, n_slots=slots)\n",
    "        n= len(slot_assignment)\n",
    "        slots+=1\n",
    "    \n",
    "clash_percentage = round((min_clashes/Total_exams)*100)    \n",
    "print(f\"\\nWith {n} slots: {min_clashes} clashes where {clash_percentage}% of exams have a clash\")\n",
    "for i, slot in enumerate(slot_assignment):\n",
    "    print(f\"  Slot {i+1}: {slot}\")"
   ]
  },
  {
   "cell_type": "markdown",
   "id": "e4a320fa",
   "metadata": {},
   "source": []
  }
 ],
 "metadata": {
  "kernelspec": {
   "display_name": "Python 3 (ipykernel)",
   "language": "python",
   "name": "python3"
  },
  "language_info": {
   "codemirror_mode": {
    "name": "ipython",
    "version": 3
   },
   "file_extension": ".py",
   "mimetype": "text/x-python",
   "name": "python",
   "nbconvert_exporter": "python",
   "pygments_lexer": "ipython3",
   "version": "3.9.13"
  }
 },
 "nbformat": 4,
 "nbformat_minor": 5
}
